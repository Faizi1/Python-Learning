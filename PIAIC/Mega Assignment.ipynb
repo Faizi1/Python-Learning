{
 "cells": [
  {
   "cell_type": "markdown",
   "metadata": {},
   "source": [
    "Question1: a,b,d\n",
    "Question2: False\n",
    "Question3: False\n",
    "Question4: d \n",
    "Question5: b\n",
    "Question6: b\n",
    "Qestion7: a,b\n",
    "Question8: b\n",
    "Question11 a. [\"Feb\", \"Apr\", \"Mar\"]\n",
    "\n",
    "     b. [\"Mar\", \"May\", \"Jun\", \"Jul\", \"Aug\", \"Jan\"]\n",
    "\n",
    "      \n",
    "     c.  [\"Jun\", \"Jul\", \"Aug\", \"Jan\"]\n",
    "\n",
    "     d.  [\"Apr\" , \"May\", \"Jul\", \"Jan\"]\n",
    "\n",
    "\n",
    "     e. [\"Apr\",\"Mar\", \"May\", \"Jun\", \"Jul\", \"Aug\", \"Jan\"]\n",
    "\n",
    "\n",
    "     f.  ['Apr', 'Mar', 'May', 'Jun', 'Jul', 'Aug']\n",
    "\n",
    "\n",
    "     g.  ['Jan','Jul', 'May','Apr']\n",
    "\n",
    "\n",
    "     h.  ['Feb','Apr','Mar','May','Jun']   \n",
    "Question12: 3)\n",
    "Question13: 1)\n",
    "Qestion14: 1)\n",
    "Question15: a. bool\n",
    "  \n",
    "     b. string\n",
    "\n",
    "     c. integer\n",
    "\n",
    "     d. float \n",
    "Question16: 2)\n",
    "Question17: 4)\n",
    "Question18: 1) 0\n",
    "\n",
    "     2) 2.0\n",
    "\n",
    "     3) 2\n",
    "\n",
    "     4) 2"
   ]
  },
  {
   "cell_type": "code",
   "execution_count": 86,
   "metadata": {},
   "outputs": [
    {
     "name": "stdout",
     "output_type": "stream",
     "text": [
      "4\n",
      "1\n",
      "1\n",
      "5\n",
      "9\n",
      "0\n"
     ]
    }
   ],
   "source": [
    "#Question19:a\n",
    "x = [[4,1,1],[5,9,0]]\n",
    "for i in range(0,2):\n",
    "    for j in range(0,3):\n",
    "        print(x[i][j])"
   ]
  },
  {
   "cell_type": "code",
   "execution_count": 34,
   "metadata": {},
   "outputs": [
    {
     "name": "stdout",
     "output_type": "stream",
     "text": [
      "4\t1\t1\t5\t9\t0\t"
     ]
    }
   ],
   "source": [
    "#Question19:b\n",
    "x = [[4,1,1],[5,9,0]]\n",
    "for i in range(2):\n",
    "    for j in range(3):\n",
    "        print(x[i][j], end='\\t')"
   ]
  },
  {
   "cell_type": "code",
   "execution_count": 81,
   "metadata": {},
   "outputs": [
    {
     "name": "stdout",
     "output_type": "stream",
     "text": [
      "4\t1\t1\t\n",
      "\n",
      "5\t9\t0\t\n",
      "\n"
     ]
    }
   ],
   "source": [
    "#Question19:c\n",
    "x = [[4,1,1],[5,9,0]]\n",
    "for i in range(2):\n",
    "    for j in range(3):\n",
    "        print(x[i][j],end='\\t')\n",
    "    print('\\n')"
   ]
  },
  {
   "cell_type": "code",
   "execution_count": 85,
   "metadata": {},
   "outputs": [
    {
     "name": "stdout",
     "output_type": "stream",
     "text": [
      "4\t5\t\n",
      "\n",
      "1\t9\t\n",
      "\n",
      "1\t0\t\n",
      "\n"
     ]
    }
   ],
   "source": [
    "#Question19:d\n",
    "x = [[4,1,1],[5,9,0]]\n",
    "for i in range(3):\n",
    "    for j in range(2):\n",
    "        print(x[j][i],end='\\t')\n",
    "    print('\\n')"
   ]
  },
  {
   "cell_type": "code",
   "execution_count": 93,
   "metadata": {},
   "outputs": [
    {
     "name": "stdout",
     "output_type": "stream",
     "text": [
      "Item0 - 10.62\n",
      "Item1 - 16.14\n",
      "Item2 - 6.45\n",
      "Item3 - 17.11\n"
     ]
    }
   ],
   "source": [
    "#Question20:\n",
    "q = [10.62, 16.14, 6.45, 17.11]\n",
    "for j,z in enumerate (q): \n",
    "     print( 'Item' + str( j ) +  ' -' , str ( z )) "
   ]
  },
  {
   "cell_type": "markdown",
   "metadata": {},
   "source": [
    "Question20: 3)\n",
    "\n",
    "Question21: b)\n",
    "\n",
    "Question22: a)\n",
    "\n",
    "Question23: False, False, True\n",
    "\n"
   ]
  },
  {
   "cell_type": "code",
   "execution_count": 98,
   "metadata": {},
   "outputs": [
    {
     "name": "stdout",
     "output_type": "stream",
     "text": [
      "11.333333333333334\n"
     ]
    }
   ],
   "source": [
    "#Question24:\n",
    "def avg ( x , y , z = 50 ): \n",
    "    adding = x + y + z \n",
    "    avg_value = adding / 3 \n",
    "    return avg_value \n",
    "y = avg ( x = 5 , y = 9 , z = 20 ) \n",
    "print(y) "
   ]
  },
  {
   "cell_type": "code",
   "execution_count": 119,
   "metadata": {},
   "outputs": [
    {
     "name": "stdout",
     "output_type": "stream",
     "text": [
      "Name is: Ali Marks: 44.5\n"
     ]
    }
   ],
   "source": [
    "#Question25:\n",
    "# It will give error because arguments are passed to function refer to their position\n",
    "# optional values have * which means they can have any number of arguments \n",
    "# while name is a required argument and null will be passed to it so we will get error\n",
    "def avg ( name, *opt_values): \n",
    "# If you do not know how many arguments that will be passed into your function, \n",
    "#add a * before the parameter name in the function definition.\n",
    "# a small correction was made positional parameters are defined first followed by optional arguments\n",
    "    avg_value = sum (opt_values) / len(opt_values)\n",
    "    print('Name is: ' + name + ' Marks: ' + str(avg_value))\n",
    "    \n",
    "avg ('Ali', 5 , 9 , 20, 34, 87, 112)"
   ]
  },
  {
   "cell_type": "code",
   "execution_count": 123,
   "metadata": {},
   "outputs": [
    {
     "name": "stdout",
     "output_type": "stream",
     "text": [
      "The winner was Manchester\n",
      "The score was 1-0\n"
     ]
    }
   ],
   "source": [
    "#Question26:\n",
    "def display_result(winner, score, **other_info):\n",
    "    print(\"The winner was \" + winner) \n",
    "    print(\"The score was \" + score) \n",
    "display_result(winner=\"Manchester\", score=\"1-0\", overtime =\"yes\", injuries=\"none\") "
   ]
  },
  {
   "cell_type": "code",
   "execution_count": 125,
   "metadata": {},
   "outputs": [
    {
     "name": "stdout",
     "output_type": "stream",
     "text": [
      "The winner was Manchester\n",
      "The score was 1-0\n"
     ]
    }
   ],
   "source": [
    "#Question26:\n",
    "def display_result(winner, score, *other_info):\n",
    "    print(\"The winner was \" + winner) \n",
    "    print(\"The score was \" + score) \n",
    "display_result(\"Manchester\", \"1-0\", \"yes\", \"none\") "
   ]
  },
  {
   "cell_type": "code",
   "execution_count": 127,
   "metadata": {},
   "outputs": [
    {
     "name": "stdout",
     "output_type": "stream",
     "text": [
      "The winner was Manchester\n",
      "The score was 1-0\n"
     ]
    }
   ],
   "source": [
    "#Question27:\n",
    "#Error becoz positional required arguments is defined after keyword argument other_info\n",
    "#def display_result(winner, **other_info, score):\n",
    "def display_result(winner, score, **other_info): \n",
    "    print(\"The winner was \" + winner)\n",
    "    print(\"The score was \" + score)\n",
    "display_result(winner=\"Manchester\", overtime =\"yes\", injuries=\"none\" , score=\"1-0\" )"
   ]
  },
  {
   "cell_type": "code",
   "execution_count": 129,
   "metadata": {},
   "outputs": [
    {
     "name": "stdout",
     "output_type": "stream",
     "text": [
      "000123\n"
     ]
    }
   ],
   "source": [
    "#Question28:\n",
    "X=123\n",
    "print(\"%06d\"%X) # 6 digit integr\n",
    "#Answer is b"
   ]
  },
  {
   "cell_type": "code",
   "execution_count": 130,
   "metadata": {},
   "outputs": [
    {
     "name": "stdout",
     "output_type": "stream",
     "text": [
      "22.19\n"
     ]
    }
   ],
   "source": [
    "#Question29:\n",
    "x=22.19\n",
    "print(\"%5.2f\"%x) # 2 digit aftr decimal"
   ]
  },
  {
   "cell_type": "code",
   "execution_count": 131,
   "metadata": {},
   "outputs": [
    {
     "data": {
      "text/plain": [
       "'1.234560, 1.234560, 01.23'"
      ]
     },
     "execution_count": 131,
     "metadata": {},
     "output_type": "execute_result"
    }
   ],
   "source": [
    "#Question30:\n",
    "'{0:f}, {1:2f}, {2:05.2f}'.format(1.23456, 1.23456, 1.23456) "
   ]
  },
  {
   "cell_type": "code",
   "execution_count": 12,
   "metadata": {},
   "outputs": [],
   "source": [
    "#Question31:\n",
    "i = 1 \n",
    "while False: #False will never work\n",
    "#if we change loop to true then infnite loop will start as\n",
    "    '''\n",
    "    1\n",
    "    3\n",
    "    5\n",
    "    7\n",
    "    '''\n",
    "    if i%2 == 0: \n",
    "        break \n",
    "    print(i) \n",
    "    i += 2 "
   ]
  },
  {
   "cell_type": "code",
   "execution_count": 14,
   "metadata": {},
   "outputs": [
    {
     "name": "stdout",
     "output_type": "stream",
     "text": [
      "a a a a a a "
     ]
    }
   ],
   "source": [
    "#Question32:\n",
    "x = \"abcdef\" \n",
    "i = \"a\" \n",
    "while i in x: \n",
    "    x = x[:-1] \n",
    "    print(i, end = \" \") \n",
    "#for everyloop end=\"\" means space will be added to each output x =abcdef a x=abcdef a a same for 6 iteration"
   ]
  },
  {
   "cell_type": "code",
   "execution_count": 18,
   "metadata": {},
   "outputs": [
    {
     "name": "stdout",
     "output_type": "stream",
     "text": [
      "abcde abcd abc ab a  "
     ]
    }
   ],
   "source": [
    "x = \"abcdef\" \n",
    "i = \"a\" \n",
    "while i in x: \n",
    "    x = x[:-1] \n",
    "    print(x, end = \" \") "
   ]
  },
  {
   "cell_type": "code",
   "execution_count": 20,
   "metadata": {},
   "outputs": [
    {
     "name": "stdout",
     "output_type": "stream",
     "text": [
      "d\n",
      "c\n",
      "b\n",
      "a\n"
     ]
    }
   ],
   "source": [
    "#Question33\n",
    "for i in ''.join(reversed(list('abcd'))):\n",
    "    print(i)\n",
    "#reversed(list('abcd')) will give dcba . join will pick values one by one and show as dcba"
   ]
  },
  {
   "cell_type": "code",
   "execution_count": null,
   "metadata": {},
   "outputs": [],
   "source": [
    "#Question34:\n",
    "for i in range(10): # in loop i start from zero to 9\n",
    "    if i == 5:      # when loop start condition check if value of i is equal to 5 then over loop is break\n",
    "        break       # first we have 0 so zero is print and loop is continue till we have 5 in i \n",
    "    else:         \n",
    "        print(i)          \n",
    "# loop is break when i have 5 and they will print 0 1 2 3 4  and outside the loop we have print(\"here\") so print here after 4\n",
    "print(\"Here\")       "
   ]
  },
  {
   "cell_type": "code",
   "execution_count": 21,
   "metadata": {},
   "outputs": [
    {
     "name": "stdout",
     "output_type": "stream",
     "text": [
      "48\n"
     ]
    }
   ],
   "source": [
    "#Question 35\n",
    "y = 6\n",
    "z = lambda x: x * y  \n",
    "#lambda argument(s): expression\n",
    "print(z(8))"
   ]
  },
  {
   "cell_type": "code",
   "execution_count": 20,
   "metadata": {},
   "outputs": [
    {
     "name": "stdout",
     "output_type": "stream",
     "text": [
      "0\n"
     ]
    }
   ],
   "source": [
    "# Question 36\n",
    "i=0\n",
    "def change(i):\n",
    "    i=i+1\n",
    "    return i\n",
    "change(1)\n",
    "print(i)\n",
    "#Output is 0 becouse parameter pass to the function is i and we difine i valuse as zero\n",
    "#so i value in memory is zero i define as value wo difine"
   ]
  },
  {
   "cell_type": "code",
   "execution_count": 37,
   "metadata": {},
   "outputs": [
    {
     "name": "stdout",
     "output_type": "stream",
     "text": [
      "<class 'tuple'>\n",
      "(2, 3, 4)\n"
     ]
    }
   ],
   "source": [
    "#Question 40\n",
    "def change(one,*two):\n",
    "    print(type(two))\n",
    "    print(two)\n",
    "change(1,2,3,4)\n",
    "#Argument 1 is passed to one as positional argument while rest 2, 3, 4 are passed to two as tuple hence we getting\n",
    "# (2, 3, 4) when printing 2"
   ]
  },
  {
   "cell_type": "code",
   "execution_count": 38,
   "metadata": {},
   "outputs": [
    {
     "name": "stdout",
     "output_type": "stream",
     "text": [
      "<class 'dict'>\n",
      "{'A': '1', 'B': '2'}\n"
     ]
    }
   ],
   "source": [
    "#Question:41\n",
    "def find(a, **b):\n",
    "    print(type(b))\n",
    "    print(b)\n",
    "find('letters',A='1',B='2')\n",
    "#how many keyword arguments that will be passed into your function, \n",
    "#add two asterix: ** before the parameter name in the function definition\n",
    "#so here in b argument,  A and B are passed  as keyword arguments in form of dictionary hence the output"
   ]
  },
  {
   "cell_type": "code",
   "execution_count": 28,
   "metadata": {},
   "outputs": [
    {
     "name": "stdout",
     "output_type": "stream",
     "text": [
      "[0]\n",
      "[0, 1]\n",
      "[0, 1, 2]\n"
     ]
    }
   ],
   "source": [
    "# Question:42\n",
    "def foo(i, x=[]):\n",
    "    x.append(i)\n",
    "    return x\n",
    "for i in range(3):\n",
    "    print(foo(i))\n",
    "#for loop,i is appended with each iteration to list x in fucntion foo i = 0 x = [0] i = 1 x = [0, 1] i = 2 x = [0, 1, 2]"
   ]
  },
  {
   "cell_type": "code",
   "execution_count": 29,
   "metadata": {},
   "outputs": [
    {
     "data": {
      "text/plain": [
       "15"
      ]
     },
     "execution_count": 29,
     "metadata": {},
     "output_type": "execute_result"
    }
   ],
   "source": [
    "#Question:43\n",
    "(3*(1+2)**2-(2**2)*3)\n",
    "#solving paranthesis first (3*3**2-4*3)\n",
    "#solving exponent (3*9-4*3) \n",
    "#solving multiplication (27-12) \n",
    "#solving Subtraction (15) open paranthesis 15 result"
   ]
  },
  {
   "cell_type": "code",
   "execution_count": 30,
   "metadata": {},
   "outputs": [
    {
     "data": {
      "text/plain": [
       "4"
      ]
     },
     "execution_count": 30,
     "metadata": {},
     "output_type": "execute_result"
    }
   ],
   "source": [
    "#Question44:\n",
    "import math # to import math library\n",
    "x = -3.67\n",
    "x = math.fabs(x)\n",
    "math.ceil(x)"
   ]
  },
  {
   "cell_type": "code",
   "execution_count": 31,
   "metadata": {},
   "outputs": [
    {
     "data": {
      "text/plain": [
       "3"
      ]
     },
     "execution_count": 31,
     "metadata": {},
     "output_type": "execute_result"
    }
   ],
   "source": [
    "#Question44:\n",
    "import math # to import math library\n",
    "x = -3.67\n",
    "x = math.fabs(x)\n",
    "math.floor(x)"
   ]
  },
  {
   "cell_type": "code",
   "execution_count": 33,
   "metadata": {},
   "outputs": [
    {
     "data": {
      "text/plain": [
       "10"
      ]
     },
     "execution_count": 33,
     "metadata": {},
     "output_type": "execute_result"
    }
   ],
   "source": [
    "#Question45:\n",
    "import random\n",
    "random.randint(5, 11) # randint(start, end)"
   ]
  },
  {
   "cell_type": "code",
   "execution_count": 34,
   "metadata": {},
   "outputs": [
    {
     "data": {
      "text/plain": [
       "11"
      ]
     },
     "execution_count": 34,
     "metadata": {},
     "output_type": "execute_result"
    }
   ],
   "source": [
    "#Question45:\n",
    "random.randrange(5, 12, 1) # random.randrange(start, stop[, step]) "
   ]
  },
  {
   "cell_type": "code",
   "execution_count": 21,
   "metadata": {},
   "outputs": [
    {
     "name": "stdout",
     "output_type": "stream",
     "text": [
      "Enter your marks? 5\n",
      "Grade E\n"
     ]
    }
   ],
   "source": [
    "#Question46:\n",
    "marks = int(input('Enter your marks? '))\n",
    "if marks >= 90:\n",
    "    print('Grade A')\n",
    "elif marks > 80:\n",
    "    print('Grade B')\n",
    "elif marks > 70:\n",
    "    print('Grade C')\n",
    "elif marks > 60:\n",
    "    print('Grade D')\n",
    "else:\n",
    "    print('Grade E')"
   ]
  },
  {
   "cell_type": "code",
   "execution_count": null,
   "metadata": {},
   "outputs": [],
   "source": []
  },
  {
   "cell_type": "code",
   "execution_count": null,
   "metadata": {},
   "outputs": [],
   "source": []
  }
 ],
 "metadata": {
  "kernelspec": {
   "display_name": "Python 3",
   "language": "python",
   "name": "python3"
  },
  "language_info": {
   "codemirror_mode": {
    "name": "ipython",
    "version": 3
   },
   "file_extension": ".py",
   "mimetype": "text/x-python",
   "name": "python",
   "nbconvert_exporter": "python",
   "pygments_lexer": "ipython3",
   "version": "3.7.4"
  }
 },
 "nbformat": 4,
 "nbformat_minor": 2
}
