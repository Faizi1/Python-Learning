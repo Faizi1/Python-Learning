{
 "cells": [
  {
   "cell_type": "code",
   "execution_count": 2,
   "metadata": {},
   "outputs": [
    {
     "name": "stdout",
     "output_type": "stream",
     "text": [
      "Please Enter Your Value: -2\n",
      "nagitive\n"
     ]
    }
   ],
   "source": [
    "# Question1 Find Nagitive and Positive Number?\n",
    "val = int(input(\"Please Enter Your Value: \"))\n",
    "if val >= 0:\n",
    "    print('positive')\n",
    "else:\n",
    "    print('nagitive')"
   ]
  },
  {
   "cell_type": "code",
   "execution_count": 2,
   "metadata": {},
   "outputs": [
    {
     "name": "stdout",
     "output_type": "stream",
     "text": [
      "Enter the marks of the subject\n",
      "Enter mark of math: 90\n",
      "Enter marks of PHY: 90\n",
      "Enter mark of Urdu: 90\n",
      "Enter marks of Comp: 90\n",
      "Enter mark of IT: 90\n",
      "Grade: A\n",
      "Total marks: 450\n",
      "Marks Avarge: 90.0\n"
     ]
    }
   ],
   "source": [
    "# Question2 Find Grade of Student?\n",
    "print('Enter the marks of the subject')\n",
    "Math= int(input(\"Enter mark of math: \"))\n",
    "phy = int(input(\"Enter marks of PHY: \"))\n",
    "Urdu= int(input(\"Enter mark of Urdu: \"))\n",
    "Comp= int(input(\"Enter marks of Comp: \"))\n",
    "IT=   int(input(\"Enter mark of IT: \"))\n",
    "Total_Marks = Math + phy + Urdu + Comp + IT\n",
    "avg = Total_Marks/5\n",
    "if(avg>=90):\n",
    "    print(\"Grade: A\")\n",
    "elif(avg>=80 and avg<90):\n",
    "    print(\"Grade: B\")\n",
    "elif(avg>=70 and avg<80):\n",
    "    print(\"Grade: C\")\n",
    "elif(avg>=60 and avg<70):\n",
    "    print(\"Grade: D\")\n",
    "else:\n",
    "    print('Fail')\n",
    "print('Total marks: ' + str(Total_Marks))\n",
    "print('Marks Avarge: '+ str(avg))"
   ]
  },
  {
   "cell_type": "code",
   "execution_count": 5,
   "metadata": {},
   "outputs": [
    {
     "name": "stdout",
     "output_type": "stream",
     "text": [
      "Enter Value of a 8\n",
      "Enter Value of b 6\n",
      "Quetient is :1\n",
      "Reminder is :2\n"
     ]
    }
   ],
   "source": [
    "#Question3 Find Quetient and Reminder?\n",
    "a = int(input(\"Enter Value of a \"))\n",
    "b = int(input(\"Enter Value of b \"))\n",
    "Quetient = a//b\n",
    "reminder = a%b\n",
    "print(\"Quetient is :\"+ str(Quetient))\n",
    "print(\"Reminder is :\"+ str(reminder))"
   ]
  },
  {
   "cell_type": "code",
   "execution_count": 18,
   "metadata": {},
   "outputs": [
    {
     "name": "stdout",
     "output_type": "stream",
     "text": [
      "1\n",
      "5\n",
      "7\n",
      "11\n",
      "13\n",
      "17\n",
      "19\n",
      "23\n",
      "25\n",
      "29\n",
      "31\n",
      "35\n",
      "37\n",
      "41\n",
      "43\n",
      "47\n",
      "49\n"
     ]
    }
   ],
   "source": [
    "#Question4 Print all Integers that Aren’t Divisible by Either 2 or 3 and Lie between 1 and 50?\n",
    "for number in range(0,51):\n",
    "    if(number % 2 !=0 and number % 3 !=0):\n",
    "        print(number)"
   ]
  },
  {
   "cell_type": "code",
   "execution_count": 5,
   "metadata": {},
   "outputs": [
    {
     "name": "stdout",
     "output_type": "stream",
     "text": [
      "Enter the first value4\n",
      "Enter the Second value5\n",
      "5\n",
      "4\n"
     ]
    }
   ],
   "source": [
    "#Question5:  Exchange the Values of Two Numbers Without Using a Temporary Variable ?\n",
    "val1 = int(input(\"Enter the first value\"))\n",
    "val2 = int(input(\"Enter the Second value\"))\n",
    "val1 = val1 + val2\n",
    "val2 = val1 - val2\n",
    "val1 = val1 - val2\n",
    "print(val1)\n",
    "print(val2)\n"
   ]
  },
  {
   "cell_type": "code",
   "execution_count": 13,
   "metadata": {},
   "outputs": [
    {
     "name": "stdout",
     "output_type": "stream",
     "text": [
      "Enter the value of a 5\n",
      "Enter the value of a 6\n",
      "Enter the value of a 7\n",
      "value of semi-perimeter of the triangle is 9.0\n",
      "Area of Triangle is 14.696938456699069\n"
     ]
    }
   ],
   "source": [
    "#Question6: # Python Program to find the area of triangle?\n",
    "a = float(input(\"Enter the value of a \"))\n",
    "b = float(input(\"Enter the value of a \"))\n",
    "c = float(input(\"Enter the value of a \"))\n",
    "s = (a + b + c)/2\n",
    "A = (s*(s-a)*(s-b)*(s-c))**0.5\n",
    "print(\"value of semi-perimeter of the triangle is \"+ str(s))\n",
    "print(\"Area of Triangle is \" + str(A))"
   ]
  },
  {
   "cell_type": "code",
   "execution_count": 28,
   "metadata": {
    "scrolled": false
   },
   "outputs": [
    {
     "name": "stdout",
     "output_type": "stream",
     "text": [
      "Enter the total Elements: 5\n",
      "Enter Elements: 34\n",
      "Enter Elements: 22\n",
      "Enter Elements: 55\n",
      "Enter Elements: 66\n",
      "Enter Elements: 77\n",
      "Even List is  [22, 34, 66]\n",
      "Length of  Even list is:  3\n",
      "Largest Even number is:  66\n",
      "Odd List is  [55, 77]\n",
      "length of  odd list is:  2\n",
      "Largest Odd number is:  77\n"
     ]
    }
   ],
   "source": [
    "#Question7: Print Largest Even and Largest Odd Number in a List ?\n",
    "list = []\n",
    "total_elements = int(input(\"Enter the total Elements: \"))\n",
    "for i in range(total_elements):\n",
    "    elements = int(input(\"Enter Elements: \"))\n",
    "    list.append(elements)\n",
    "list1 = []\n",
    "list2 = []\n",
    "for i in list:\n",
    "    if(i % 2 == 0):\n",
    "        list1.append(i)\n",
    "    else:\n",
    "        list2.append(i)\n",
    "list1.sort()\n",
    "len(list1)\n",
    "list2.sort()\n",
    "len(list2)\n",
    "print(\"Even List is \",list1)\n",
    "print(\"Length of  Even list is: \",len(list1))\n",
    "print(\"Largest Even number is: \",max(list1))\n",
    "print(\"Odd List is \",list2)\n",
    "print(\"length of  odd list is: \",len(list2))\n",
    "print(\"Largest Odd number is: \",max(list2))"
   ]
  },
  {
   "cell_type": "code",
   "execution_count": 1,
   "metadata": {},
   "outputs": [
    {
     "name": "stdout",
     "output_type": "stream",
     "text": [
      "Enter the total Elements: 5\n",
      "Enter Elements: 234\n",
      "Enter Elements: 33\n",
      "Enter Elements: 66\n",
      "Enter Elements: 99\n",
      "Enter Elements: 22\n",
      "Second Largest Number in a list is:  99\n"
     ]
    }
   ],
   "source": [
    "#Question8: Program to Find the Second Largest Number in a List?\n",
    "list = []\n",
    "total_elements = int(input(\"Enter the total Elements: \"))\n",
    "for i in range(total_elements):\n",
    "    elements = int(input(\"Enter Elements: \"))\n",
    "    list.append(elements)\n",
    "    list.sort()\n",
    "print(\"Second Largest Number in a list is: \", list[-2])"
   ]
  },
  {
   "cell_type": "code",
   "execution_count": 1,
   "metadata": {},
   "outputs": [
    {
     "name": "stdout",
     "output_type": "stream",
     "text": [
      "Enter the total Elements: 4\n",
      "Enter Elements: 23\n",
      "Enter Elements: 12\n",
      "Enter Elements: 43\n",
      "Enter Elements: 2\n",
      "Enter the total Elements: 3\n",
      "Enter Elements: 50\n",
      "Enter Elements: 8\n",
      "Enter Elements: 70\n",
      "Union of two list is:  [23, 12, 43, 2, 50, 8, 70]\n"
     ]
    }
   ],
   "source": [
    "#Question9:Program to Find the Union of two Lists?\n",
    "def union(list1,list2):\n",
    "    U_list = list1 + list2\n",
    "    return  U_list\n",
    "list1 = []\n",
    "total_elements1 = int(input(\"Enter the total Elements: \"))\n",
    "for i in range(total_elements1):\n",
    "    elements1 = int(input(\"Enter Elements: \"))\n",
    "    list1.append(elements1)\n",
    "list2 = []\n",
    "total_elements2 = int(input(\"Enter the total Elements: \"))\n",
    "for i in range(total_elements2):\n",
    "    elements2 = int(input(\"Enter Elements: \"))\n",
    "    list2.append(elements2)\n",
    "print(\"Union of two list is: \",union(list1,list2))"
   ]
  },
  {
   "cell_type": "code",
   "execution_count": null,
   "metadata": {},
   "outputs": [],
   "source": []
  }
 ],
 "metadata": {
  "kernelspec": {
   "display_name": "Python 3",
   "language": "python",
   "name": "python3"
  },
  "language_info": {
   "codemirror_mode": {
    "name": "ipython",
    "version": 3
   },
   "file_extension": ".py",
   "mimetype": "text/x-python",
   "name": "python",
   "nbconvert_exporter": "python",
   "pygments_lexer": "ipython3",
   "version": "3.7.4"
  }
 },
 "nbformat": 4,
 "nbformat_minor": 2
}
