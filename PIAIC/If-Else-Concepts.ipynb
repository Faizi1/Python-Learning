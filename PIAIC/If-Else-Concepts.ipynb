{
 "cells": [
  {
   "cell_type": "code",
   "execution_count": 1,
   "metadata": {},
   "outputs": [
    {
     "name": "stdout",
     "output_type": "stream",
     "text": [
      "Imran bhai\n"
     ]
    }
   ],
   "source": [
    "#if-else\n",
    "person = \"KRC\"\n",
    "if person == \"KRC\":\n",
    "    print('Imran bhai')\n",
    "elif person == \"PHR\":\n",
    "    print('Khan saib')\n",
    "elif person == \"FSD\":\n",
    "    print('Mraan Khan')\n",
    "elif person == \"iSB\":\n",
    "    print('IK <3')\n",
    "else:\n",
    "    print('Imran Khan Niazi')"
   ]
  },
  {
   "cell_type": "code",
   "execution_count": null,
   "metadata": {},
   "outputs": [],
   "source": []
  },
  {
   "cell_type": "code",
   "execution_count": null,
   "metadata": {},
   "outputs": [],
   "source": []
  }
 ],
 "metadata": {
  "kernelspec": {
   "display_name": "Python 3",
   "language": "python",
   "name": "python3"
  },
  "language_info": {
   "codemirror_mode": {
    "name": "ipython",
    "version": 3
   },
   "file_extension": ".py",
   "mimetype": "text/x-python",
   "name": "python",
   "nbconvert_exporter": "python",
   "pygments_lexer": "ipython3",
   "version": "3.7.4"
  }
 },
 "nbformat": 4,
 "nbformat_minor": 2
}
