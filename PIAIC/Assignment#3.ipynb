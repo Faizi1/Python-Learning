{
 "cells": [
  {
   "cell_type": "code",
   "execution_count": 15,
   "metadata": {},
   "outputs": [
    {
     "name": "stdout",
     "output_type": "stream",
     "text": [
      "Enter the Username: faizi\n",
      "Enter the Password: 123456\n",
      "User Information added:  {'faizi': 123456}\n"
     ]
    }
   ],
   "source": [
    "#Question1: Program to Add a Key-Value Pair to the Dictionary From User?\n",
    "User = str(input(\"Enter the Username: \"))\n",
    "Paswrd = int(input(\"Enter the Password: \"))\n",
    "d={}\n",
    "d.update({User : Paswrd})\n",
    "print(\"User Information added: \",d)"
   ]
  },
  {
   "cell_type": "code",
   "execution_count": 18,
   "metadata": {},
   "outputs": [
    {
     "name": "stdout",
     "output_type": "stream",
     "text": [
      "{'faizi': 'Sagheer', 'Shahzad': 'Ahmad', 1: 2, 3: 4}\n"
     ]
    }
   ],
   "source": [
    "#Question2:Program to Concatenate Two Dictionaries Into One?\n",
    "d1 = {'faizi':'Sagheer','Shahzad':'Ahmad'}\n",
    "d2 = {1:2,3:4}\n",
    "d1.update(d2)\n",
    "print(d1)"
   ]
  },
  {
   "cell_type": "code",
   "execution_count": 25,
   "metadata": {},
   "outputs": [
    {
     "name": "stdout",
     "output_type": "stream",
     "text": [
      "Enter Key to check: Grade\n",
      "Yes the Key  GRADE is Present and value of key is  B\n"
     ]
    }
   ],
   "source": [
    "#Question3:Program to Check if a Given Key Exists in a Dictionary or Not?\n",
    "Student = {'Name':'Faizi','Degree':'BSCS','Roll#':18706,'Grade':'B'}\n",
    "check = input(\"Enter Key to check: \")\n",
    "if check in Student:\n",
    "    print(\"Yes the Key \", check.upper(), \"is Present and value of key is \", Student[check])\n",
    "else:\n",
    "    print(\"Key is't Present\")"
   ]
  },
  {
   "cell_type": "code",
   "execution_count": 31,
   "metadata": {},
   "outputs": [
    {
     "name": "stdout",
     "output_type": "stream",
     "text": [
      "Enter a Number: 5\n",
      "{1: 1, 2: 4, 3: 9, 4: 16, 5: 25}\n"
     ]
    }
   ],
   "source": [
    "#Question4: Program to Generate a Dictionary that Contains Numbers (between 1 and n) in the Form (x,x*x)\n",
    "var= int(input(\"Enter a Number: \"))\n",
    "d = {}\n",
    "for x in range(1,var+1):\n",
    "    d[x]=x*x\n",
    "print(d)"
   ]
  },
  {
   "cell_type": "code",
   "execution_count": 32,
   "metadata": {},
   "outputs": [
    {
     "name": "stdout",
     "output_type": "stream",
     "text": [
      "Total Sum of values in a Dictionary is:  61\n"
     ]
    }
   ],
   "source": [
    "#Question5:Program to Sum All the Items in a Dictionary?\n",
    "d1 = {'A':1,'B':4,'C':6,'D':8,'E':10,'F':12,'G':20}\n",
    "print(\"Total Sum of values in a Dictionary is: \",sum(d1.values()))"
   ]
  },
  {
   "cell_type": "code",
   "execution_count": 40,
   "metadata": {},
   "outputs": [
    {
     "name": "stdout",
     "output_type": "stream",
     "text": [
      "The multiplication of all items is:  460800\n"
     ]
    }
   ],
   "source": [
    "#Question6:Program to Multiply All the Items in a Dictionary?\n",
    "d1 = {'A':1,'B':4,'C':6,'D':8,'E':10,'F':12,'G':20}\n",
    "var = 1\n",
    "for i in d1:\n",
    "    var = var * d1[i]\n",
    "print(\"The multiplication of all items is: \",var)"
   ]
  },
  {
   "cell_type": "code",
   "execution_count": 55,
   "metadata": {},
   "outputs": [
    {
     "name": "stdout",
     "output_type": "stream",
     "text": [
      "Enter Key to check: Grade\n",
      "Yes the Key  GRADE is Present and value of key is  B\n",
      "GRADE key is Deleted: \n",
      "Updated dictionary is:  {'Name': 'Faizi', 'Degree': 'BSCS', 'Roll#': 18706}\n"
     ]
    }
   ],
   "source": [
    "#Question7: Program to Remove the Given Key from a Dictionary?\n",
    "Student = {'Name':'Faizi','Degree':'BSCS','Roll#':18706,'Grade':'B'}\n",
    "check = input(\"Enter Key to check: \")\n",
    "if check in Student:\n",
    "    print(\"Yes the Key \", check.upper(), \"is Present and value of key is \", Student[check])\n",
    "    print(check.upper(),\"key is Deleted: \")\n",
    "    del Student[check]\n",
    "    print(\"Updated dictionary is: \",Student)\n",
    "else:\n",
    "    print(\"Key is't Present\")"
   ]
  },
  {
   "cell_type": "code",
   "execution_count": 63,
   "metadata": {},
   "outputs": [
    {
     "name": "stdout",
     "output_type": "stream",
     "text": [
      "Enter number of elements for dictionar: 3\n",
      "For Keys\n",
      "Enter Elements: faizi\n",
      "Enter Elements: shezi\n",
      "Enter Elements: sunny\n",
      "Enter number of elements for dictionar: 3\n",
      "For values\n",
      "Enter Elements: 1\n",
      "Enter Elements: 2\n",
      "Enter Elements: 3\n",
      "The dictionary is:  {'faizi': '1', 'shezi': '2', 'sunny': '3'}\n"
     ]
    }
   ],
   "source": [
    "#Question8:Program to Map Two Lists into a Dictionary?\n",
    "list1 = []\n",
    "key = int(input(\"Enter number of elements for dictionar: \"))\n",
    "print(\"For Keys\")\n",
    "for i in range(key):\n",
    "    Elements = str(input(\"Enter Elements: \"))\n",
    "    list1.append(Elements)\n",
    "list2=[]\n",
    "values = int(input(\"Enter number of elements for dictionar: \"))\n",
    "print(\"For values\")\n",
    "for i in range(values):\n",
    "    Elements = str(input(\"Enter Elements: \"))\n",
    "    list2.append(Elements)\n",
    "dictionary = dict(zip(list1,list2))\n",
    "print(\"The dictionary is: \", dictionary)"
   ]
  },
  {
   "cell_type": "code",
   "execution_count": 2,
   "metadata": {},
   "outputs": [
    {
     "name": "stdout",
     "output_type": "stream",
     "text": [
      "Enter a string: faizi faizi sagheer sagheer piaic piaic piaic\n",
      "{'faizi': 2, 'sagheer': 2, 'piaic': 3}\n"
     ]
    }
   ],
   "source": [
    "#Question9:Program to Count the Frequency of Words Appearing in a String Using a Dictionary?\n",
    "string = input(\"Enter a string: \")\n",
    "list1 =  []\n",
    "list1 = string.split()\n",
    "list2 = [list1.count(i)\n",
    "for i in list1]\n",
    "wrdfrq= (dict(zip(list1,list2)))\n",
    "print(wrdfrq)"
   ]
  },
  {
   "cell_type": "code",
   "execution_count": 59,
   "metadata": {},
   "outputs": [
    {
     "name": "stdout",
     "output_type": "stream",
     "text": [
      "Enter a String: my name is faiz sagheer and my father name is muhammad sagheer\n",
      "m : ['my', 'muhammad']\n",
      "n : ['name']\n",
      "i : ['is']\n",
      "f : ['faiz', 'father']\n",
      "s : ['sagheer']\n",
      "a : ['and']\n"
     ]
    }
   ],
   "source": [
    "#Question10:Program to Create a Dictionary with Key as First Character and Value as Words Starting with that Character ?\n",
    "string1 = input(\"Enter a String: \")\n",
    "d = {}\n",
    "list1 = []\n",
    "list1 = string1.split()\n",
    "for i in list1:\n",
    "    if(i[0] not in d.keys()):\n",
    "        d[i[0]]=[]\n",
    "        d[i[0]].append(i)\n",
    "    else:\n",
    "        if(i not in d[i[0]]):\n",
    "            d[i[0]].append(i)     \n",
    "for k,v in d.items():\n",
    "        print(k,\":\",v)"
   ]
  },
  {
   "cell_type": "code",
   "execution_count": 71,
   "metadata": {},
   "outputs": [
    {
     "name": "stdout",
     "output_type": "stream",
     "text": [
      "hello\n"
     ]
    }
   ],
   "source": [
    "x = 'hello'\n",
    "print(x"
   ]
  },
  {
   "cell_type": "code",
   "execution_count": null,
   "metadata": {},
   "outputs": [],
   "source": []
  }
 ],
 "metadata": {
  "kernelspec": {
   "display_name": "Python 3",
   "language": "python",
   "name": "python3"
  },
  "language_info": {
   "codemirror_mode": {
    "name": "ipython",
    "version": 3
   },
   "file_extension": ".py",
   "mimetype": "text/x-python",
   "name": "python",
   "nbconvert_exporter": "python",
   "pygments_lexer": "ipython3",
   "version": "3.7.4"
  }
 },
 "nbformat": 4,
 "nbformat_minor": 2
}
