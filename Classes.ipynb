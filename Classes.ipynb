{
 "cells": [
  {
   "cell_type": "code",
   "execution_count": 1,
   "metadata": {},
   "outputs": [
    {
     "name": "stdout",
     "output_type": "stream",
     "text": [
      "Faizi\n"
     ]
    }
   ],
   "source": [
    "class Person:\n",
    "    def __init__(self, name, age):\n",
    "        self.name = name\n",
    "        self.age = age\n",
    "p1 = Person(\"Faizi\", 33)\n",
    "print(p1.name)\n"
   ]
  },
  {
   "cell_type": "code",
   "execution_count": 5,
   "metadata": {},
   "outputs": [
    {
     "name": "stdout",
     "output_type": "stream",
     "text": [
      "my name is faizi and my age is 24\n"
     ]
    }
   ],
   "source": [
    "class Faizi:\n",
    "    def __init__(info, name, age, blood_group, degree):\n",
    "        info.name = name\n",
    "        info.age = age\n",
    "        info.blood_group = blood_group\n",
    "        info.degree = degree\n",
    "    def my(info):\n",
    "        print(\"my name is \" + info.name + \" and my age is \" + str(info.age))\n",
    "p1 = Faizi(\"faizi\", 24, \"o+\", \"bscs\")\n",
    "p1.my()"
   ]
  },
  {
   "cell_type": "code",
   "execution_count": 14,
   "metadata": {},
   "outputs": [
    {
     "name": "stdout",
     "output_type": "stream",
     "text": [
      "Honde\n",
      "Suzuki\n",
      "The car make is Honde\n",
      "The car model is Sas\n",
      "The car year is 2015\n",
      "Mehran\n",
      "Toyota\n",
      "The new make of change is parado\n"
     ]
    }
   ],
   "source": [
    "class Car():\n",
    "#     attrtibue >>> variable\n",
    "    def __init__(self, make, model, year):\n",
    "        self.make = make\n",
    "        self.model = model\n",
    "        self.year = year\n",
    "#       behaviours>>> functions\n",
    "    def discriptioncar(self):\n",
    "        print(f\"The car make is {self.make}\")\n",
    "        print(f\"The car model is {self.model}\")\n",
    "        print(f\"The car year is {self.year}\")\n",
    "    def changeval(self, newmake):\n",
    "        self.make = newmake\n",
    "        print(f\"The new make of change is {self.make}\")\n",
    "#     object/instance\n",
    "car1 = Car(\"Honde\", \"Sas\", 2015)\n",
    "car2 = Car(\"Suzuki\", \"Civic\", 2019)\n",
    "print (car1.make)\n",
    "print (car2.make)\n",
    "car1.discriptioncar()\n",
    "#   changing the value of attribute\n",
    "car1.make = \"Mehran\"\n",
    "car2.make = \"Toyota\"\n",
    "print(car1.make)\n",
    "print(car2.make)\n",
    "#  changine the value of attrbute via function\n",
    "car1.changeval(\"parado\")"
   ]
  },
  {
   "cell_type": "code",
   "execution_count": 8,
   "metadata": {},
   "outputs": [
    {
     "name": "stdout",
     "output_type": "stream",
     "text": [
      "wellcome\n"
     ]
    }
   ],
   "source": [
    "def a(c):\n",
    "    c()\n",
    "def b():\n",
    "    print(\"wellcome\")\n",
    "def c():\n",
    "    print(\"adab\")\n",
    "x = b\n",
    "a(x)"
   ]
  },
  {
   "cell_type": "code",
   "execution_count": null,
   "metadata": {},
   "outputs": [],
   "source": []
  }
 ],
 "metadata": {
  "kernelspec": {
   "display_name": "Python 3",
   "language": "python",
   "name": "python3"
  },
  "language_info": {
   "codemirror_mode": {
    "name": "ipython",
    "version": 3
   },
   "file_extension": ".py",
   "mimetype": "text/x-python",
   "name": "python",
   "nbconvert_exporter": "python",
   "pygments_lexer": "ipython3",
   "version": "3.7.4"
  }
 },
 "nbformat": 4,
 "nbformat_minor": 2
}
