{
 "cells": [
  {
   "cell_type": "code",
   "execution_count": 21,
   "metadata": {},
   "outputs": [
    {
     "name": "stdout",
     "output_type": "stream",
     "text": [
      "my name is faiz and may father name is: saheer\n",
      "6\n"
     ]
    }
   ],
   "source": [
    "ab(a ='faiz',b ='saheer')\n",
    "def ac(c, f):\n",
    "    print(c+f)\n",
    "def ab(a,b):\n",
    "        print(\"my name is\" \" \" + a + \" \" \"and may father name is: \" + b )\n",
    "ac(2,4)"
   ]
  },
  {
   "cell_type": "code",
   "execution_count": 6,
   "metadata": {},
   "outputs": [
    {
     "name": "stdout",
     "output_type": "stream",
     "text": [
      "total of a and b is:  11\n",
      "total of a and b is:  8\n",
      "total of a and b is:  5\n",
      "total of a and b is:  faiz sf\n"
     ]
    }
   ],
   "source": [
    "def func(a, b):\n",
    "    c = a + b\n",
    "    print(\"total of a and b is: \", c)\n",
    "func(5, 6)\n",
    "func(5,3)\n",
    "func(2,3)\n",
    "func(\"faiz\" , \" sf\")"
   ]
  },
  {
   "cell_type": "code",
   "execution_count": 10,
   "metadata": {},
   "outputs": [
    {
     "name": "stdout",
     "output_type": "stream",
     "text": [
      "5\n"
     ]
    }
   ],
   "source": [
    "def func():\n",
    "    a = 2\n",
    "    b = 3\n",
    "    c = a + b\n",
    "    print(c)\n",
    "func()"
   ]
  },
  {
   "cell_type": "code",
   "execution_count": 6,
   "metadata": {},
   "outputs": [
    {
     "name": "stdout",
     "output_type": "stream",
     "text": [
      "hello ji\n"
     ]
    }
   ],
   "source": [
    "def func(greet):\n",
    "    print(greet)\n",
    "greet = \"hello ji\"   \n",
    "func(greet)"
   ]
  },
  {
   "cell_type": "code",
   "execution_count": 28,
   "metadata": {},
   "outputs": [
    {
     "name": "stdout",
     "output_type": "stream",
     "text": [
      "The first name is faizi and the last name is sagheer\n"
     ]
    }
   ],
   "source": [
    "def f(first, last):\n",
    "    print(\"The first name is \" + first + \" and the last name is \" + last)\n",
    "f(first = \"faizi\", last = \"sagheer\")"
   ]
  },
  {
   "cell_type": "code",
   "execution_count": 30,
   "metadata": {},
   "outputs": [
    {
     "ename": "TypeError",
     "evalue": "f() missing 2 required positional arguments: 'first' and 'last'",
     "output_type": "error",
     "traceback": [
      "\u001b[1;31m---------------------------------------------------------------------------\u001b[0m",
      "\u001b[1;31mTypeError\u001b[0m                                 Traceback (most recent call last)",
      "\u001b[1;32m<ipython-input-30-98c1ce569a1f>\u001b[0m in \u001b[0;36m<module>\u001b[1;34m\u001b[0m\n\u001b[0;32m      3\u001b[0m     \u001b[0mlast\u001b[0m \u001b[1;33m=\u001b[0m \u001b[1;34m\"sagheer\"\u001b[0m\u001b[1;33m\u001b[0m\u001b[1;33m\u001b[0m\u001b[0m\n\u001b[0;32m      4\u001b[0m     \u001b[0mprint\u001b[0m\u001b[1;33m(\u001b[0m\u001b[1;34m\"The first name is \"\u001b[0m \u001b[1;33m+\u001b[0m \u001b[0mfirst\u001b[0m \u001b[1;33m+\u001b[0m \u001b[1;34m\" and the last name is \"\u001b[0m \u001b[1;33m+\u001b[0m \u001b[0mlast\u001b[0m\u001b[1;33m)\u001b[0m\u001b[1;33m\u001b[0m\u001b[1;33m\u001b[0m\u001b[0m\n\u001b[1;32m----> 5\u001b[1;33m \u001b[0mf\u001b[0m\u001b[1;33m(\u001b[0m\u001b[1;33m)\u001b[0m\u001b[1;33m\u001b[0m\u001b[1;33m\u001b[0m\u001b[0m\n\u001b[0m",
      "\u001b[1;31mTypeError\u001b[0m: f() missing 2 required positional arguments: 'first' and 'last'"
     ]
    }
   ],
   "source": [
    "def f(first, last):\n",
    "    first = \"faizi\"\n",
    "    last = \"sagheer\"\n",
    "    print(\"The first name is \" + first + \" and the last name is \" + last)\n",
    "f()"
   ]
  },
  {
   "cell_type": "code",
   "execution_count": 31,
   "metadata": {},
   "outputs": [
    {
     "name": "stdout",
     "output_type": "stream",
     "text": [
      "The first name is faizi and the last name is sagheer\n"
     ]
    }
   ],
   "source": [
    "def f():\n",
    "    first = \"faizi\"\n",
    "    last = \"sagheer\"\n",
    "    print(\"The first name is \" + first + \" and the last name is \" + last)\n",
    "f()"
   ]
  },
  {
   "cell_type": "code",
   "execution_count": 36,
   "metadata": {},
   "outputs": [
    {
     "name": "stdout",
     "output_type": "stream",
     "text": [
      "17\n"
     ]
    }
   ],
   "source": [
    "#Default value to a parameter\n",
    "def fa(a, s = 8):\n",
    "    c = s + a\n",
    "    print(c)\n",
    "fa(9)"
   ]
  },
  {
   "cell_type": "code",
   "execution_count": 37,
   "metadata": {},
   "outputs": [
    {
     "ename": "SyntaxError",
     "evalue": "non-default argument follows default argument (<ipython-input-37-802de8a9c5fd>, line 3)",
     "output_type": "error",
     "traceback": [
      "\u001b[1;36m  File \u001b[1;32m\"<ipython-input-37-802de8a9c5fd>\"\u001b[1;36m, line \u001b[1;32m3\u001b[0m\n\u001b[1;33m    def fa(s = 8, a):\u001b[0m\n\u001b[1;37m          ^\u001b[0m\n\u001b[1;31mSyntaxError\u001b[0m\u001b[1;31m:\u001b[0m non-default argument follows default argument\n"
     ]
    }
   ],
   "source": [
    "#Default value to a parameter\n",
    "# Keyword parameters without defaults must come before keyword parameters with defaults. \n",
    "def fa(s = 8, a):\n",
    "    c = s + a\n",
    "    print(c)\n",
    "fa(9)"
   ]
  },
  {
   "cell_type": "code",
   "execution_count": 9,
   "metadata": {},
   "outputs": [
    {
     "name": "stdout",
     "output_type": "stream",
     "text": [
      "shezi\n",
      "iqbal\n",
      "new abadi\n",
      "sunny\n",
      "haider\n",
      "sanam\n"
     ]
    }
   ],
   "source": [
    "customer = { \n",
    "    0: {\n",
    "        \"first_name\" : \"faizi\",\n",
    "         \"last_name\" : \"sagheer\",\n",
    "          \"address\"  :  \"rwp\"\n",
    "    },\n",
    "    1: {\n",
    "        \"first_name\" : \"shezi\",\n",
    "         \"last_name\" : \"iqbal\",\n",
    "          \"address\"  :  \"new abadi\" \n",
    "    },\n",
    "    2: {\n",
    "        \"first_name\" : \"sunny\",\n",
    "         \"last_name\" : \"haider\",\n",
    "          \"address\"  :  \"sanam\"\n",
    "    }\n",
    "                }\n",
    "def find_something(dict, inner_dict, target):\n",
    "    print(dict[inner_dict][target])\n",
    "find_something(customer, 1, \"first_name\")\n",
    "find_something(customer, 1, \"last_name\")\n",
    "find_something(customer, 1, \"address\")\n",
    "\n",
    "find_something(customer, 2, \"first_name\")\n",
    "find_something(customer, 2, \"last_name\")\n",
    "find_something(customer, 2, \"address\")\n"
   ]
  },
  {
   "cell_type": "code",
   "execution_count": 2,
   "metadata": {},
   "outputs": [
    {
     "name": "stdout",
     "output_type": "stream",
     "text": [
      "apple\n",
      "banana\n",
      "cheerry\n"
     ]
    }
   ],
   "source": [
    "def name(food):\n",
    "    for x in food:\n",
    "        print(x)\n",
    "fruits = [\"apple\", \"banana\", \"cheerry\"]\n",
    "name(fruits)"
   ]
  },
  {
   "cell_type": "code",
   "execution_count": 5,
   "metadata": {},
   "outputs": [
    {
     "name": "stdout",
     "output_type": "stream",
     "text": [
      "a is faizi\n",
      "b is sagheer\n",
      "age: 23\n",
      "sd: sd\n"
     ]
    }
   ],
   "source": [
    "# optional keyword arguments\n",
    "def d(a, b, **c):\n",
    "    print(\"a is \" + a)\n",
    "    print(\"b is \" + b)\n",
    "    for key, value in c.items():\n",
    "        print(key + \": \" + value)\n",
    "d(a= \"faizi\", b = \"sagheer\", age = \"23\", sd = \"sd\")"
   ]
  },
  {
   "cell_type": "code",
   "execution_count": 6,
   "metadata": {},
   "outputs": [
    {
     "name": "stdout",
     "output_type": "stream",
     "text": [
      "100\n",
      "200\n",
      "(300, 400, 200, 22, 33, 2, 2)\n"
     ]
    }
   ],
   "source": [
    "# optional positional arguments\n",
    "def oppt(a, b, *c):\n",
    "    print(a)\n",
    "    print(b)\n",
    "    print(c)\n",
    "oppt(100,200,300,400,200,22,33,2,2)"
   ]
  },
  {
   "cell_type": "code",
   "execution_count": 7,
   "metadata": {},
   "outputs": [
    {
     "data": {
      "text/plain": [
       "6"
      ]
     },
     "execution_count": 7,
     "metadata": {},
     "output_type": "execute_result"
    }
   ],
   "source": [
    "# Use of return\n",
    "def a(b, c):\n",
    "    d = b + c\n",
    "    return d\n",
    "a(1, 5)"
   ]
  },
  {
   "cell_type": "code",
   "execution_count": 9,
   "metadata": {},
   "outputs": [
    {
     "data": {
      "text/plain": [
       "6"
      ]
     },
     "execution_count": 9,
     "metadata": {},
     "output_type": "execute_result"
    }
   ],
   "source": [
    "# Use of return\n",
    "def a(b, c):\n",
    "    return (b + c)\n",
    "a(1, 5)"
   ]
  },
  {
   "cell_type": "code",
   "execution_count": 11,
   "metadata": {},
   "outputs": [
    {
     "data": {
      "text/plain": [
       "[1, 2, 3, 4]"
      ]
     },
     "execution_count": 11,
     "metadata": {},
     "output_type": "execute_result"
    }
   ],
   "source": [
    "# Use of return\n",
    "def a():\n",
    "    no = [1,2,3,4]\n",
    "    return no\n",
    "a()"
   ]
  },
  {
   "cell_type": "code",
   "execution_count": 3,
   "metadata": {},
   "outputs": [
    {
     "name": "stdout",
     "output_type": "stream",
     "text": [
      "6\n"
     ]
    }
   ],
   "source": [
    "# use of retur\n",
    "def add(x,y):\n",
    "    c =  x + y\n",
    "    return c\n",
    "result = add(4,2)"
   ]
  },
  {
   "cell_type": "code",
   "execution_count": 21,
   "metadata": {},
   "outputs": [
    {
     "name": "stdout",
     "output_type": "stream",
     "text": [
      "6\n",
      "-3\n",
      "3\n"
     ]
    }
   ],
   "source": [
    "def add(a,b):\n",
    "    return a + b\n",
    "def sub(a,b):\n",
    "    return a - b\n",
    "print(add(1,5))\n",
    "print(sub(1,4))\n",
    "total = add(1,5) + sub(1,4)\n",
    "print(total)"
   ]
  },
  {
   "cell_type": "code",
   "execution_count": 3,
   "metadata": {},
   "outputs": [
    {
     "name": "stdout",
     "output_type": "stream",
     "text": [
      "2\n",
      "1\n"
     ]
    }
   ],
   "source": [
    "y = 2\n",
    "def a(y):\n",
    "    print(y)\n",
    "print(y)\n",
    "a(1)"
   ]
  },
  {
   "cell_type": "code",
   "execution_count": 2,
   "metadata": {},
   "outputs": [
    {
     "name": "stdout",
     "output_type": "stream",
     "text": [
      "Mark\n"
     ]
    }
   ],
   "source": [
    "# Nested fucntion. function in function.\n",
    "def display_my_name(my_name):\n",
    "    print(my_name)\n",
    "def call_name_function():\n",
    "        display_my_name(\"Mark\")\n",
    "call_name_function()"
   ]
  },
  {
   "cell_type": "code",
   "execution_count": 12,
   "metadata": {},
   "outputs": [
    {
     "name": "stdout",
     "output_type": "stream",
     "text": [
      "Hello from outer function\n",
      "Hello from inner function\n"
     ]
    }
   ],
   "source": [
    "# Nested function\n",
    "def outerfunction(): #outer function\n",
    "    print(\"Hello from outer function\")\n",
    "    def innerfunction(): # inner function\n",
    "        print(\"Hello from inner function\")\n",
    "    innerfunction()\n",
    "outerfunction()"
   ]
  },
  {
   "cell_type": "code",
   "execution_count": 13,
   "metadata": {},
   "outputs": [
    {
     "name": "stdout",
     "output_type": "stream",
     "text": [
      "50\n"
     ]
    }
   ],
   "source": [
    "def num1(x):\n",
    "    def num2(y):\n",
    "        return x * y\n",
    "    return num2\n",
    "res = num1(10)\n",
    "\n",
    "print(res(5))"
   ]
  },
  {
   "cell_type": "code",
   "execution_count": 15,
   "metadata": {},
   "outputs": [
    {
     "name": "stdout",
     "output_type": "stream",
     "text": [
      "Enter the name of a city: Santa Fe\n",
      "It's one of the cleanest cities\n"
     ]
    }
   ],
   "source": [
    "cleanest_cities = [\"Cheyenne\", \"Santa Fe\", \"Tucson\", \"Great Falls\", \"Honolulu\"]\n",
    "city_to_check = input(\"Enter the name of a city: \") \n",
    "for a_clean_city in cleanest_cities: \n",
    "    if city_to_check == a_clean_city:\n",
    "        print(\"It's one of the cleanest cities\")     \n",
    "        break"
   ]
  },
  {
   "cell_type": "code",
   "execution_count": 1,
   "metadata": {},
   "outputs": [
    {
     "name": "stdout",
     "output_type": "stream",
     "text": [
      "Enter a city, or q to quit: isb\n",
      "Enter a city, or q to quit: fs\n",
      "Enter a city, or q to quit: sd\n",
      "Enter a city, or q to quit: ds\n",
      "Enter a city, or q to quit: Tucson\n",
      "It's one of the cleanest cities\n",
      "Enter a city, or q to quit: sd\n",
      "Enter a city, or q to quit: q\n"
     ]
    }
   ],
   "source": [
    "cleanest_cities = [\"Cheyenne\", \"Santa Fe\", \"Tucson\", \"Great Falls\", \"Honolulu\"]\n",
    "# city_to_check = input(\"Enter the name of a city: \")\n",
    "user_input = \"\"\n",
    "while user_input != \"q\":\n",
    "    user_input = input(\"Enter a city, or q to quit: \")\n",
    "    if user_input != \"q\":\n",
    "        for a_clean_city in cleanest_cities: \n",
    "            if user_input == a_clean_city:\n",
    "                print(\"It's one of the cleanest cities\")\n",
    "                break"
   ]
  },
  {
   "cell_type": "code",
   "execution_count": null,
   "metadata": {},
   "outputs": [
    {
     "name": "stdout",
     "output_type": "stream",
     "text": [
      "Enter a city, or q to quit: f\n",
      "Enter a city, or q to quit: sd\n",
      "Enter a city, or q to quit: sds\n",
      "Enter a city, or q to quit: fs\n",
      "Enter a city, or q to quit: Santa Fe\n",
      "It's one of the cleanest cities\n",
      "Enter a city, or q to quit: q\n",
      "Enter a city, or q to quit: q\n"
     ]
    }
   ],
   "source": [
    "cleanest_cities = [\"Cheyenne\", \"Santa Fe\", \"Tucson\", \"Great Falls\", \"Honolulu\"]\n",
    "# city_to_check = input(\"Enter the name of a city: \")\n",
    "# user_input = \"\"\n",
    "a = True\n",
    "while a == True:\n",
    "    user_input = input(\"Enter a city, or q to quit: \")\n",
    "    if user_input != \"q\":\n",
    "        for a_clean_city in cleanest_cities: \n",
    "            if user_input == a_clean_city:\n",
    "                print(\"It's one of the cleanest cities\")\n",
    "                break\n",
    "    else:\n",
    "        a == False"
   ]
  },
  {
   "cell_type": "code",
   "execution_count": null,
   "metadata": {},
   "outputs": [],
   "source": []
  }
 ],
 "metadata": {
  "kernelspec": {
   "display_name": "Python 3",
   "language": "python",
   "name": "python3"
  },
  "language_info": {
   "codemirror_mode": {
    "name": "ipython",
    "version": 3
   },
   "file_extension": ".py",
   "mimetype": "text/x-python",
   "name": "python",
   "nbconvert_exporter": "python",
   "pygments_lexer": "ipython3",
   "version": "3.7.4"
  }
 },
 "nbformat": 4,
 "nbformat_minor": 2
}
