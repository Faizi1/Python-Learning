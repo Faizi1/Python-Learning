{
 "cells": [
  {
   "cell_type": "raw",
   "metadata": {},
   "source": [
    " Change in a physical file that exist in a folder\n",
    "Single file called module and multiple file called modules\n",
    "                    r       r+     w    w+     a        a+\n",
    "------------------------------------------------------------------\n",
    "read                    \n",
    "write               +        +           +              +\n",
    "write after seek             +     +     +      +       +\n",
    "create                             +     +      +       +\n",
    "truncate              \n",
    "position at start   +        +     +     +\n",
    "position                                       +"
   ]
  },
  {
   "cell_type": "code",
   "execution_count": 1,
   "metadata": {},
   "outputs": [
    {
     "name": "stdout",
     "output_type": "stream",
     "text": [
      "This is my first testing file for checking the python to read data!\n"
     ]
    }
   ],
   "source": [
    "# r mode\n",
    "with open(\"TestingDataFiles.txt\", \"r\") as file:\n",
    "    content = file.read()\n",
    "print(content)"
   ]
  },
  {
   "cell_type": "code",
   "execution_count": 2,
   "metadata": {},
   "outputs": [],
   "source": [
    "# w mode\n",
    "with open(\"TestingDataFiles.txt\", \"w\") as f:\n",
    "    f.write(\"this is my new data\")"
   ]
  },
  {
   "cell_type": "code",
   "execution_count": 3,
   "metadata": {},
   "outputs": [],
   "source": [
    "#  w mode\n",
    "with open(\"TestingDataFiles.txt\", \"w\") as f:\n",
    "    f.write(\"this sadsdsis my new data\")"
   ]
  },
  {
   "cell_type": "code",
   "execution_count": 4,
   "metadata": {},
   "outputs": [],
   "source": [
    "#  a append mode\n",
    "with open(\"TestingDataFiles.txt\", \"a\") as f:\n",
    "    f.write(\"this sadsdsis my new data\")"
   ]
  },
  {
   "cell_type": "code",
   "execution_count": 7,
   "metadata": {},
   "outputs": [
    {
     "name": "stdout",
     "output_type": "stream",
     "text": [
      "this sadssddsis my new data\n"
     ]
    }
   ],
   "source": [
    "# w+\n",
    "with open(\"Tst.txt\", \"w+\") as f:\n",
    "    f.write(\"this sadssddsis my new data\")\n",
    "    f.seek(0)\n",
    "    print(f.read())"
   ]
  },
  {
   "cell_type": "code",
   "execution_count": 11,
   "metadata": {},
   "outputs": [
    {
     "name": "stdout",
     "output_type": "stream",
     "text": [
      "this sadssddsis my new data\n"
     ]
    }
   ],
   "source": [
    "# r+\n",
    "with open(\"Tst.txt\", \"r+\") as f:\n",
    "    f.write(\"this sadssddsis my new data\")\n",
    "    f.seek(0)\n",
    "    print(f.read())"
   ]
  },
  {
   "cell_type": "code",
   "execution_count": null,
   "metadata": {},
   "outputs": [],
   "source": []
  }
 ],
 "metadata": {
  "kernelspec": {
   "display_name": "Python 3",
   "language": "python",
   "name": "python3"
  },
  "language_info": {
   "codemirror_mode": {
    "name": "ipython",
    "version": 3
   },
   "file_extension": ".py",
   "mimetype": "text/x-python",
   "name": "python",
   "nbconvert_exporter": "python",
   "pygments_lexer": "ipython3",
   "version": "3.7.4"
  }
 },
 "nbformat": 4,
 "nbformat_minor": 2
}
