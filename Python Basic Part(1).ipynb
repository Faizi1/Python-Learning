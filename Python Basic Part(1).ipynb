{
 "cells": [
  {
   "cell_type": "raw",
   "metadata": {},
   "source": [
    "#Python is a widely used high-level, general-purpose, interpreted, dynamic programming language. Its design philosophy emphasizes code readability, and its syntax allows programmers to express concepts in fewer lines of code than possible in languages such as C++ or Java.\n",
    "\n",
    "Python supports multiple programming paradigms, including object-oriented, imperative and functional programming or procedural styles. It features a dynamic type system and automatic memory management and has a large and comprehensive standard library\n",
    "\n",
    "The best way we learn anything is by practice and exercise questions. We have started this section for those (beginner to intermediate) who are familiar with Python.\n",
    "\n",
    "Hope, these exercises help you to improve your Python coding skills. Currently, following sections are available, we are working hard to add more exercises .... Happy Coding!\n"
   ]
  },
  {
   "cell_type": "code",
   "execution_count": 10,
   "metadata": {},
   "outputs": [
    {
     "name": "stdout",
     "output_type": "stream",
     "text": [
      "Twinkle, twinkle, little star,\n",
      "    How I wonder what you are! \n",
      "        Up above the world so high,   \n",
      "        Like a diamond in the sky. \n",
      "Twinkle, twinkle, little star, \n",
      "    How I wonder what you are\n"
     ]
    }
   ],
   "source": [
    "#1.Write a Python program to print the following string in a specific format (see the output).\n",
    "print('''Twinkle, twinkle, little star,\n",
    "    How I wonder what you are! \n",
    "        Up above the world so high,   \n",
    "        Like a diamond in the sky. \n",
    "Twinkle, twinkle, little star, \n",
    "    How I wonder what you are''')"
   ]
  },
  {
   "cell_type": "code",
   "execution_count": 20,
   "metadata": {},
   "outputs": [
    {
     "data": {
      "text/plain": [
       "'3.7.4 (default, Aug  9 2019, 18:22:51) [MSC v.1915 32 bit (Intel)]'"
      ]
     },
     "execution_count": 20,
     "metadata": {},
     "output_type": "execute_result"
    }
   ],
   "source": [
    "#2 Write a Python program to get the Python version you are using?\n",
    "import sys\n",
    "sys.version"
   ]
  },
  {
   "cell_type": "code",
   "execution_count": 1,
   "metadata": {},
   "outputs": [
    {
     "name": "stdout",
     "output_type": "stream",
     "text": [
      "Current Date and Time: \n",
      "2020-02-04 11:45:30.491296\n"
     ]
    }
   ],
   "source": [
    "#3. Write a Python program to display the current date and time\n",
    "import datetime\n",
    "x = datetime.datetime.now()\n",
    "print(\"Current Date and Time: \")\n",
    "print(x)"
   ]
  },
  {
   "cell_type": "code",
   "execution_count": 36,
   "metadata": {},
   "outputs": [
    {
     "name": "stdout",
     "output_type": "stream",
     "text": [
      "Enter the value of radius1.1\n",
      "The area of cirle is: 3.8013271108436504\n"
     ]
    }
   ],
   "source": [
    "#4 Write a Python program which accepts the radius of a circle from the user and compute the area\n",
    "from math import pi\n",
    "r =float(input(\"Enter the value of radius\"))\n",
    "area_of_circle = str(pi*r**2)\n",
    "print(\"The area of cirle is: \"+ area_of_circle)"
   ]
  },
  {
   "cell_type": "code",
   "execution_count": 40,
   "metadata": {},
   "outputs": [
    {
     "name": "stdout",
     "output_type": "stream",
     "text": [
      "Enthe the first name: faiz \n",
      "Enthe the last name: sagheer\n",
      "sagheer faiz \n"
     ]
    }
   ],
   "source": [
    "#5.Write a Python program which accepts the user's first and last name and print them in reverse order ?\n",
    "first_name = str(input(\"Enthe the first name: \"))\n",
    "last_name = str(input(\"Enthe the last name: \"))\n",
    "print(last_name + \" \" + first_name)"
   ]
  },
  {
   "cell_type": "code",
   "execution_count": 1,
   "metadata": {},
   "outputs": [
    {
     "name": "stdout",
     "output_type": "stream",
     "text": [
      "Input some comma seprated numbers : 4,5,3,27\n",
      "List :  ['4', '5', '3', '27']\n",
      "Tuple :  ('4', '5', '3', '27')\n"
     ]
    }
   ],
   "source": [
    "#6 Write a Python program which accepts a sequence of comma-separated numbers from user \n",
    "#and generate a list and a tuple with those numbers?\n",
    "values = input(\"Input some comma seprated numbers : \")\n",
    "list = values.split(\",\")\n",
    "tuple = tuple(list)\n",
    "print('List : ',list)\n",
    "print('Tuple : ',tuple)"
   ]
  },
  {
   "cell_type": "code",
   "execution_count": 8,
   "metadata": {},
   "outputs": [
    {
     "name": "stdout",
     "output_type": "stream",
     "text": [
      "enter your file name:faiz.txt\n",
      "The extension of thefile is : 'txt'\n"
     ]
    }
   ],
   "source": [
    "#7 Write a Python program to accept a filename from the user and print the extension of that?\n",
    "file = input(\"enter your file name:\")\n",
    "f  = file.split(\".\")\n",
    "print(\"The extension of thefile is :\",repr(f[-1]))"
   ]
  },
  {
   "cell_type": "code",
   "execution_count": 12,
   "metadata": {},
   "outputs": [
    {
     "name": "stdout",
     "output_type": "stream",
     "text": [
      "Red Black\n"
     ]
    }
   ],
   "source": [
    "#8 Write a Python program to display the first and last colors from the following list?\n",
    "color_list = [\"Red\",\"Green\",\"White\" ,\"Black\"]\n",
    "print(color_list[0]  + \" \" + color_list[-1])"
   ]
  },
  {
   "cell_type": "code",
   "execution_count": 18,
   "metadata": {},
   "outputs": [
    {
     "name": "stdout",
     "output_type": "stream",
     "text": [
      "The examination will start from: 11 / 12 / 2019 \n"
     ]
    }
   ],
   "source": [
    "#9 Write a Python program to display the examination schedule?\n",
    "exam_st_date = (11, 12, 2019)\n",
    "print(\"The examination will start from: %i / %i / %i \"%exam_st_date)"
   ]
  },
  {
   "cell_type": "code",
   "execution_count": 48,
   "metadata": {},
   "outputs": [
    {
     "name": "stdout",
     "output_type": "stream",
     "text": [
      "Input an integer : 5\n",
      "615\n"
     ]
    }
   ],
   "source": [
    "#10Write a Python program that accepts an integer (n) and computes the value of n+nn+nnn?\n",
    "a = int(input(\"Input an integer : \"))\n",
    "n1 = int( \"%s\" % a )\n",
    "n2 = int( \"%s%s\" % (a,a) )\n",
    "n3 = int( \"%s%s%s\" % (a,a,a) )\n",
    "print (n1+n2+n3)"
   ]
  },
  {
   "cell_type": "code",
   "execution_count": 52,
   "metadata": {},
   "outputs": [
    {
     "name": "stdout",
     "output_type": "stream",
     "text": [
      "Return the absolute value of the argument.\n"
     ]
    }
   ],
   "source": [
    "#11Write a Python program to print the documents (syntax, description etc.) of Python built-in function(s).\n",
    "print(abs.__doc__)"
   ]
  },
  {
   "cell_type": "code",
   "execution_count": 5,
   "metadata": {},
   "outputs": [
    {
     "name": "stdout",
     "output_type": "stream",
     "text": [
      "Input the year : 2020\n",
      "Input the month : 2\n",
      "   February 2020\n",
      "Mo Tu We Th Fr Sa Su\n",
      "                1  2\n",
      " 3  4  5  6  7  8  9\n",
      "10 11 12 13 14 15 16\n",
      "17 18 19 20 21 22 23\n",
      "24 25 26 27 28 29\n",
      "\n"
     ]
    }
   ],
   "source": [
    "#12. Write a Python program to print the calendar of a given month and year?\n",
    "import calendar\n",
    "y = int(input(\"Input the year : \"))\n",
    "m = int(input(\"Input the month : \"))\n",
    "print(calendar.month(y,m))\n",
    "# print(calendar.month(y, d))"
   ]
  },
  {
   "cell_type": "code",
   "execution_count": 17,
   "metadata": {},
   "outputs": [
    {
     "name": "stdout",
     "output_type": "stream",
     "text": [
      "a string you \"don't\" have to excape \n",
      " This \n",
      "is a ........multi-line\n",
      "haredoc string ------> example\n",
      "\n",
      "Mathod 2:\n",
      "\n",
      "\n",
      "a string that you \"don't\" have to escape\n",
      "This\n",
      "is a  ....... multi-line\n",
      "heredoc string --------> example\n",
      "\n"
     ]
    }
   ],
   "source": [
    "#13. Write a Python program to print the following here document\n",
    "print('a string you \"don\\'t\" have to excape \\n This \\nis a ........multi-line\\nharedoc string ------> example\\n')\n",
    "print(\"Mathod 2:\\n\")\n",
    "print(\"\"\"\n",
    "a string that you \"don't\" have to escape\n",
    "This\n",
    "is a  ....... multi-line\n",
    "heredoc string --------> example\n",
    "\"\"\")"
   ]
  },
  {
   "cell_type": "code",
   "execution_count": 26,
   "metadata": {},
   "outputs": [
    {
     "name": "stdout",
     "output_type": "stream",
     "text": [
      "9 days, 0:00:00\n"
     ]
    }
   ],
   "source": [
    "#14 Write a Python program to calculate number of days between two dates?\n",
    "from datetime import date\n",
    "date1 = date(2019, 7, 2)\n",
    "date2 = date(2019, 7, 11)\n",
    "cal = date2 -date1\n",
    "print(cal)"
   ]
  },
  {
   "cell_type": "code",
   "execution_count": 31,
   "metadata": {},
   "outputs": [
    {
     "name": "stdout",
     "output_type": "stream",
     "text": [
      "enter the value of radius: 6\n",
      "904.7786842338604\n"
     ]
    }
   ],
   "source": [
    "#15 Write a Python program to get the volume of a sphere with radius 6.?\n",
    "from math import pi\n",
    "r = int(input(\"enter the value of radius: \"))\n",
    "volume_of_sphere= ((4/3)*pi*(r*r)*r)\n",
    "print(volume_of_sphere)"
   ]
  },
  {
   "cell_type": "code",
   "execution_count": 41,
   "metadata": {},
   "outputs": [
    {
     "name": "stdout",
     "output_type": "stream",
     "text": [
      "enter a number40\n",
      "double the absolute difference 46\n"
     ]
    }
   ],
   "source": [
    "#16.Write a Python program to get the difference between a given number and 17, \n",
    "#if the number is greater than 17 return double the absolute difference?\n",
    "No = int(input(\"enter a number\"))\n",
    "if No <= 17:\n",
    "    a = 17 - No\n",
    "    print(\"difference: \",a)\n",
    "else:\n",
    "    a = (No-17)*2\n",
    "    print('double the absolute difference',a)"
   ]
  },
  {
   "cell_type": "code",
   "execution_count": 5,
   "metadata": {},
   "outputs": [
    {
     "name": "stdout",
     "output_type": "stream",
     "text": [
      "enter a number: 3000\n",
      "The number is greater the 2000:  3000\n"
     ]
    }
   ],
   "source": [
    "#17Write a Python program to test whether a number is within 100 of 1000 or 2000\n",
    "Num = int(input(\"enter a number: \"))\n",
    "if Num <=100:\n",
    "    print(\"The numnber is within the 100: \" ,Num)\n",
    "elif Num > 100 and Num <=1000:\n",
    "    print(\"The Number is within the 1000: \" ,Num)\n",
    "elif Num >1000 and  Num <=2000:\n",
    "    print(\"The Number is within the 2000: \" ,Num)\n",
    "else:\n",
    "    print(\"The number is greater the 2000: \" ,Num)"
   ]
  },
  {
   "cell_type": "code",
   "execution_count": 6,
   "metadata": {},
   "outputs": [
    {
     "name": "stdout",
     "output_type": "stream",
     "text": [
      "True\n",
      "True\n",
      "False\n",
      "False\n"
     ]
    }
   ],
   "source": [
    "#17\n",
    "def near_thousand(n):\n",
    "      return ((abs(1000 - n) <= 100) or (abs(2000 - n) <= 100))\n",
    "print(near_thousand(1000))\n",
    "print(near_thousand(900))\n",
    "print(near_thousand(800))   \n",
    "print(near_thousand(2200))"
   ]
  },
  {
   "cell_type": "code",
   "execution_count": 9,
   "metadata": {},
   "outputs": [
    {
     "name": "stdout",
     "output_type": "stream",
     "text": [
      "18\n",
      "15\n"
     ]
    }
   ],
   "source": [
    "#18.Write a Python program to calculate the sum of three given numbers, \n",
    "#if the values are equal then return three times of their sum.\n",
    "def sum(a,b,c):\n",
    "    sum = a + b + c\n",
    "    if a==b==c:\n",
    "        sum = sum * 3\n",
    "    return sum\n",
    "    \n",
    "print(sum(2,2,2))\n",
    "print(sum(2,8,5))"
   ]
  },
  {
   "cell_type": "code",
   "execution_count": 11,
   "metadata": {},
   "outputs": [
    {
     "name": "stdout",
     "output_type": "stream",
     "text": [
      "IsFaiziii\n",
      "IsFaizii\n"
     ]
    }
   ],
   "source": [
    "#19 Write a Python program to get a new string from a given string where \"Is\" has been added to the front. \n",
    "#If the given string already begins with \"Is\" then return the string unchanged?\n",
    "def nstring(str):\n",
    "    if len(str) >= 2 and str[:2] == \"Is\":\n",
    "        return str\n",
    "    return \"Is\" + str\n",
    "print(nstring(\"Faiziii\"))\n",
    "print(nstring(\"Faizii\"))"
   ]
  },
  {
   "cell_type": "code",
   "execution_count": 21,
   "metadata": {},
   "outputs": [
    {
     "name": "stdout",
     "output_type": "stream",
     "text": [
      "abcabc\n",
      ".py.py.py\n"
     ]
    }
   ],
   "source": [
    "#20.Write a Python program to get a string which is n (non-negative integer) copies of a given string?\n",
    "def larger_string(str, n):\n",
    "    result = \"\"\n",
    "    for i in range(n):\n",
    "        result = result + str\n",
    "    return result\n",
    "\n",
    "print(larger_string('abc', 2))\n",
    "print(larger_string('.py', 3))"
   ]
  },
  {
   "cell_type": "code",
   "execution_count": null,
   "metadata": {},
   "outputs": [],
   "source": []
  }
 ],
 "metadata": {
  "kernelspec": {
   "display_name": "Python 3",
   "language": "python",
   "name": "python3"
  },
  "language_info": {
   "codemirror_mode": {
    "name": "ipython",
    "version": 3
   },
   "file_extension": ".py",
   "mimetype": "text/x-python",
   "name": "python",
   "nbconvert_exporter": "python",
   "pygments_lexer": "ipython3",
   "version": "3.7.4"
  }
 },
 "nbformat": 4,
 "nbformat_minor": 2
}
