{
 "cells": [
  {
   "cell_type": "code",
   "execution_count": 1,
   "metadata": {},
   "outputs": [
    {
     "name": "stdout",
     "output_type": "stream",
     "text": [
      "Faizi\n",
      "Faizi\n",
      "Faizi\n",
      "Faizi\n",
      "Faizi\n",
      "Faizi\n",
      "Faizi\n",
      "Faizi\n",
      "Faizi\n",
      "Faizi\n",
      "Faizi\n",
      "Faizi\n",
      "Faizi\n",
      "Faizi\n",
      "Faizi\n",
      "Faizi\n",
      "Faizi\n",
      "Faizi\n",
      "Faizi\n",
      "Faizi\n",
      "Faizi\n",
      "Faizi\n"
     ]
    }
   ],
   "source": [
    "for i in \"hello my name is faizi\":\n",
    "    print(\"Faizi\")"
   ]
  },
  {
   "cell_type": "code",
   "execution_count": 3,
   "metadata": {},
   "outputs": [
    {
     "name": "stdout",
     "output_type": "stream",
     "text": [
      "wallah wallah wallah\n",
      "wallah wallah wallah\n",
      "wallah wallah wallah\n",
      "wallah wallah wallah\n",
      "wallah wallah wallah\n",
      "wallah wallah wallah\n",
      "wallah wallah wallah\n",
      "wallah wallah wallah\n",
      "wallah wallah wallah\n",
      "wallah wallah wallah\n",
      "wallah wallah wallah\n",
      "wallah wallah wallah\n",
      "wallah wallah wallah\n",
      "wallah wallah wallah\n",
      "wallah wallah wallah\n",
      "wallah wallah wallah\n",
      "wallah wallah wallah\n",
      "wallah wallah wallah\n"
     ]
    }
   ],
   "source": [
    "s = \"my name is faiz :p\"\n",
    "for i in s:\n",
    "    print('wallah wallah wallah')"
   ]
  },
  {
   "cell_type": "code",
   "execution_count": 5,
   "metadata": {},
   "outputs": [
    {
     "name": "stdout",
     "output_type": "stream",
     "text": [
      "z\n",
      "i\n",
      " \n",
      "i\n",
      "s\n",
      " \n",
      "f\n",
      "a\n"
     ]
    }
   ],
   "source": [
    "s = \"faizi is faiz and shezi is shahzad\"\n",
    "for i in s[3:11]:\n",
    "    print(i)"
   ]
  },
  {
   "cell_type": "code",
   "execution_count": null,
   "metadata": {},
   "outputs": [],
   "source": [
    "import turtle\n",
    "wn = turtle.Screen()\n",
    "shezi = turtle.Turtle()\n",
    "shezi.speed(3)\n",
    "shezi.shape(\"turtle\")\n",
    "for i in [0,1,2,3]:\n",
    "    shezi.forward(50)\n",
    "    shezi.left(90)\n",
    "wn.exitonclick()"
   ]
  },
  {
   "cell_type": "code",
   "execution_count": 1,
   "metadata": {
    "scrolled": true
   },
   "outputs": [],
   "source": [
    "import turtle\n",
    "wn = turtle.Screen()\n",
    "shezi = turtle.Turtle()\n",
    "shezi.speed(5)\n",
    "shezi.shape(\"turtle\")\n",
    "for i in [\"yellow\", \"green\", \"red\", \"blue\"]:\n",
    "    shezi.color(i)\n",
    "    shezi.forward(50)\n",
    "    shezi.left(90)\n",
    "wn.exitonclick()"
   ]
  },
  {
   "cell_type": "code",
   "execution_count": 1,
   "metadata": {},
   "outputs": [
    {
     "name": "stdout",
     "output_type": "stream",
     "text": [
      "Hi Joe Please come to my party on Saturday!\n",
      "Hi Amy Please come to my party on Saturday!\n",
      "Hi Brad Please come to my party on Saturday!\n",
      "Hi Angelina Please come to my party on Saturday!\n",
      "Hi Zuki Please come to my party on Saturday!\n",
      "Hi Thandi Please come to my party on Saturday!\n",
      "Hi Paris Please come to my party on Saturday!\n"
     ]
    }
   ],
   "source": [
    "for name in [\"Joe\", \"Amy\", \"Brad\", \"Angelina\", \"Zuki\", \"Thandi\", \"Paris\"]:\n",
    "    print(\"Hi\", name, \"Please come to my party on Saturday!\")"
   ]
  },
  {
   "cell_type": "code",
   "execution_count": 4,
   "metadata": {},
   "outputs": [
    {
     "name": "stdout",
     "output_type": "stream",
     "text": [
      "1\n",
      "3\n",
      "6\n",
      "10\n",
      "15\n",
      "21\n",
      "28\n",
      "36\n",
      "45\n",
      "55\n"
     ]
    }
   ],
   "source": [
    "# Accumulator program\n",
    "num = [1,2,3,4,5,6,7,8,9,10]\n",
    "Accum = 0\n",
    "for i in num:\n",
    "    Accum = Accum + i\n",
    "    print(Accum) # Inside the loop"
   ]
  },
  {
   "cell_type": "code",
   "execution_count": 5,
   "metadata": {},
   "outputs": [
    {
     "name": "stdout",
     "output_type": "stream",
     "text": [
      "55\n"
     ]
    }
   ],
   "source": [
    "# Accumulator program\n",
    "num = [1,2,3,4,5,6,7,8,9,10]\n",
    "Accum = 0\n",
    "for i in num:\n",
    "    Accum = Accum + i\n",
    "print(Accum) #outside the loop"
   ]
  },
  {
   "cell_type": "code",
   "execution_count": 13,
   "metadata": {},
   "outputs": [
    {
     "name": "stdout",
     "output_type": "stream",
     "text": [
      "range(5): \n",
      "0\n",
      "1\n",
      "2\n",
      "3\n",
      "4\n",
      "range(0,5): \n",
      "0\n",
      "1\n",
      "2\n",
      "3\n",
      "4\n",
      "[0, 1, 2, 3, 4]\n",
      "[0, 1, 2, 3, 4]\n",
      "range(0, 5)\n"
     ]
    }
   ],
   "source": [
    "# Range function in loop and without loop\n",
    "print(\"range(5): \")\n",
    "for i in range(5):\n",
    "    print(i)\n",
    "\n",
    "print(\"range(0,5): \")\n",
    "for i in range(0, 5):\n",
    "    print(i)\n",
    "\n",
    "# Notice the casting of `range` to the `list`\n",
    "print(list(range(5)))\n",
    "print(list(range(0,5)))\n",
    "\n",
    "# Note: `range` function is already casted as `list` in the textbook\n",
    "print(range(5))\n"
   ]
  },
  {
   "cell_type": "code",
   "execution_count": 23,
   "metadata": {},
   "outputs": [
    {
     "name": "stdout",
     "output_type": "stream",
     "text": [
      "0 0\n",
      "0 1\n",
      "0 2\n",
      "1 0\n",
      "1 1\n",
      "1 2\n",
      "2 0\n",
      "2 1\n",
      "2 2\n",
      "3 0\n",
      "3 1\n",
      "3 2\n",
      "4 0\n",
      "4 1\n",
      "4 2\n"
     ]
    }
   ],
   "source": [
    "# Nasted Loop\n",
    "for i in range(5):\n",
    "    for j in range(3):\n",
    "        print(i, j)"
   ]
  },
  {
   "cell_type": "code",
   "execution_count": 2,
   "metadata": {},
   "outputs": [
    {
     "name": "stdout",
     "output_type": "stream",
     "text": [
      "number in tha iteration 0\n",
      "tot value for every loop 0\n",
      "number in tha iteration 1\n",
      "tot value for every loop 1\n",
      "number in tha iteration 2\n",
      "tot value for every loop 3\n",
      "number in tha iteration 3\n",
      "tot value for every loop 6\n",
      "number in tha iteration 4\n",
      "tot value for every loop 10\n",
      "number in tha iteration 5\n",
      "tot value for every loop 15\n",
      "number in tha iteration 6\n",
      "tot value for every loop 21\n",
      "number in tha iteration 7\n",
      "tot value for every loop 28\n",
      "number in tha iteration 8\n",
      "tot value for every loop 36\n",
      "number in tha iteration 9\n",
      "tot value for every loop 45\n",
      "total value of tot 45\n"
     ]
    }
   ],
   "source": [
    "w = range(10)\n",
    "\n",
    "tot = 0\n",
    "for num in w:\n",
    "    print(\"number in tha iteration\",num)\n",
    "    tot += num\n",
    "    print(\"tot value for every loop\",tot)\n",
    "print(\"total value of tot\",tot)"
   ]
  },
  {
   "cell_type": "code",
   "execution_count": 3,
   "metadata": {},
   "outputs": [
    {
     "name": "stdout",
     "output_type": "stream",
     "text": [
      "***** Before the For Loop ******\n",
      "***** A New Loop Iteration ******\n",
      "Value of num: 0\n",
      "Value of tot: 0\n",
      "***** A New Loop Iteration ******\n",
      "Value of num: 1\n",
      "Value of tot: 1\n",
      "***** A New Loop Iteration ******\n",
      "Value of num: 2\n",
      "Value of tot: 3\n",
      "***** A New Loop Iteration ******\n",
      "Value of num: 3\n",
      "Value of tot: 6\n",
      "***** A New Loop Iteration ******\n",
      "Value of num: 4\n",
      "Value of tot: 10\n",
      "***** A New Loop Iteration ******\n",
      "Value of num: 5\n",
      "Value of tot: 15\n",
      "***** A New Loop Iteration ******\n",
      "Value of num: 6\n",
      "Value of tot: 21\n",
      "***** A New Loop Iteration ******\n",
      "Value of num: 7\n",
      "Value of tot: 28\n",
      "***** A New Loop Iteration ******\n",
      "Value of num: 8\n",
      "Value of tot: 36\n",
      "***** A New Loop Iteration ******\n",
      "Value of num: 9\n",
      "Value of tot: 45\n",
      "***** End of For Loop *****\n",
      "Final total: 45\n"
     ]
    }
   ],
   "source": [
    "w = range(10)\n",
    "\n",
    "tot = 0\n",
    "print(\"***** Before the For Loop ******\")\n",
    "for num in w:\n",
    "    print(\"***** A New Loop Iteration ******\")\n",
    "    print(\"Value of num:\", num)\n",
    "    tot += num\n",
    "    print(\"Value of tot:\", tot)\n",
    "print(\"***** End of For Loop *****\")\n",
    "print(\"Final total:\", tot)"
   ]
  }
 ],
 "metadata": {
  "kernelspec": {
   "display_name": "Python 3",
   "language": "python",
   "name": "python3"
  },
  "language_info": {
   "codemirror_mode": {
    "name": "ipython",
    "version": 3
   },
   "file_extension": ".py",
   "mimetype": "text/x-python",
   "name": "python",
   "nbconvert_exporter": "python",
   "pygments_lexer": "ipython3",
   "version": "3.7.4"
  }
 },
 "nbformat": 4,
 "nbformat_minor": 2
}
